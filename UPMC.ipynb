{
 "cells": [
  {
   "cell_type": "code",
   "execution_count": 1,
   "metadata": {
    "collapsed": true
   },
   "outputs": [],
   "source": [
    "import requests\n",
    "import time\n",
    "from bs4 import BeautifulSoup\n",
    "import pandas as pd\n",
    "import re"
   ]
  },
  {
   "cell_type": "code",
   "execution_count": 43,
   "metadata": {},
   "outputs": [],
   "source": [
    "urls = ['http://findadoc.upmc.com/PhysicianBioQuery.aspx?EPCDID=2864&lang=&hosp=0#results', 'http://findadoc.upmc.com/PhysicianBioQuery.aspx?EPCDID=186176&lang=&hosp=0#results',  \n",
    "        'http://findadoc.upmc.com/PhysicianBioQuery.aspx?EPCDID=156250&lang=&hosp=0#results']"
   ]
  },
  {
   "cell_type": "code",
   "execution_count": 47,
   "metadata": {
    "collapsed": true
   },
   "outputs": [],
   "source": [
    "def generate_info(url):\n",
    "    response = requests.get(url)\n",
    "    html = response.content.decode('utf-8')\n",
    "    soup = BeautifulSoup(html,'lxml')        \n",
    "        \n",
    "    Rating_Stars = soup.find_all('div',class_='ratingStars')[1]\n",
    "    rating_Results = soup.find_all('div',class_='ratingResults')[0]\n",
    "\n",
    "    general = re.split('(?<!\\d)[,](?!\\d)', soup.find_all('span',itemprop=\"name\")[0].text)\n",
    "    if len(soup.find_all('div',itemprop=\"medicalSpecialty\")) == 0: \n",
    "        specialty = ' '\n",
    "    else:    \n",
    "        specialty = soup.find_all('div',itemprop=\"medicalSpecialty\")[0].text\n",
    "    general.append(specialty)\n",
    "    rating_Star = Rating_Stars.find_all('div')[0].get('data-rateit-value')\n",
    "\n",
    "    if rating_Star != '0':\n",
    "        ratingCount = Rating_Stars.find_all('span')[1].text\n",
    "        comments_number_string = Rating_Stars.find_all('a',href=\"#comments\")[0].text\n",
    "        comments_number = re.split('\\W+',comments_number_string)[0]\n",
    "\n",
    "        general.append(ratingCount)\n",
    "        general.append(comments_number)\n",
    "        general.append(rating_Star)\n",
    "\n",
    "    else: \n",
    "        general.append(0)\n",
    "        general.append(0)\n",
    "        general.append(' ')\n",
    "\n",
    "    spans = rating_Results.find_all('span')\n",
    "    ratings = [span.get('data-rateit-value') for span in spans]\n",
    "    info = general+ratings\n",
    "    \n",
    "    return info"
   ]
  },
  {
   "cell_type": "code",
   "execution_count": 48,
   "metadata": {},
   "outputs": [],
   "source": [
    "data = []\n",
    "for url in urls:\n",
    "    data.append(generate_info(url))"
   ]
  },
  {
   "cell_type": "code",
   "execution_count": 49,
   "metadata": {},
   "outputs": [
    {
     "data": {
      "text/plain": [
       "[['Karin E. Byers',\n",
       "  ' MD',\n",
       "  ' ',\n",
       "  '34',\n",
       "  '18',\n",
       "  '5',\n",
       "  '4.9',\n",
       "  '5',\n",
       "  '4.9',\n",
       "  '4.9',\n",
       "  '5',\n",
       "  '4.9',\n",
       "  '4.9'],\n",
       " ['Christine A Cleveland',\n",
       "  ' MD',\n",
       "  'Physical Medicine and Rehabilitation',\n",
       "  0,\n",
       "  0,\n",
       "  ' '],\n",
       " ['Mehret Selas Birru Talabi',\n",
       "  ' ',\n",
       "  '43',\n",
       "  '10',\n",
       "  '5',\n",
       "  '4.9',\n",
       "  '4.9',\n",
       "  '5',\n",
       "  '5',\n",
       "  '5',\n",
       "  '5',\n",
       "  '5']]"
      ]
     },
     "execution_count": 49,
     "metadata": {},
     "output_type": "execute_result"
    }
   ],
   "source": [
    "data"
   ]
  },
  {
   "cell_type": "code",
   "execution_count": 4,
   "metadata": {},
   "outputs": [],
   "source": [
    "response = requests.get(urls[0])\n",
    "html = response.content.decode('utf-8')\n",
    "soup = BeautifulSoup(html,'lxml')"
   ]
  },
  {
   "cell_type": "code",
   "execution_count": 5,
   "metadata": {},
   "outputs": [
    {
     "data": {
      "text/plain": [
       "<div class=\"ratingStars\">\n",
       "<div class=\"rateit\" data-rateit-ispreset=\"true\" data-rateit-readonly=\"true\" data-rateit-value=\"4.8\" title=\"4.8 Stars\"></div>\n",
       "<div class=\"ov_rating\">4.8 out of 5</div>\n",
       "</div>"
      ]
     },
     "execution_count": 5,
     "metadata": {},
     "output_type": "execute_result"
    }
   ],
   "source": [
    "soup.find_all('div',class_='ratingStars')[0]"
   ]
  },
  {
   "cell_type": "code",
   "execution_count": 6,
   "metadata": {},
   "outputs": [
    {
     "data": {
      "text/plain": [
       "[<div class=\"ratingResults\">\n",
       " <div class=\"ratings\">\n",
       " <div>\n",
       " <span class=\"rateit\" data-rateit-ispreset=\"true\" data-rateit-readonly=\"true\" data-rateit-value=\"4.9\" title=\"4.9 Stars\"></span>\n",
       " <br/>\n",
       "                         Rate the Provider\n",
       "                     </div>\n",
       " <div>\n",
       " <span class=\"rateit\" data-rateit-ispreset=\"true\" data-rateit-readonly=\"true\" data-rateit-value=\"5\" title=\"5 Stars\"></span>\n",
       " <br/>\n",
       "                         Listens Carefully\n",
       "                     </div>\n",
       " <div>\n",
       " <span class=\"rateit\" data-rateit-ispreset=\"true\" data-rateit-readonly=\"true\" data-rateit-value=\"4.9\" title=\"4.9 Stars\"></span>\n",
       " <br/>\n",
       "                         Spends Enough Time with You\n",
       "                     </div>\n",
       " </div>\n",
       " <div class=\"ratings\">\n",
       " <div>\n",
       " <span class=\"rateit\" data-rateit-ispreset=\"true\" data-rateit-readonly=\"true\" data-rateit-value=\"4.9\" title=\"4.9 Stars\"></span>\n",
       " <br/>\n",
       "                         Recommend This Provider to Family/Friends\n",
       "                     </div>\n",
       " <div>\n",
       " <span class=\"rateit\" data-rateit-ispreset=\"true\" data-rateit-readonly=\"true\" data-rateit-value=\"5\" title=\"5 Stars\"></span>\n",
       " <br/>\n",
       "                         Shows Respect for Patients\n",
       "                     </div>\n",
       " <div>\n",
       " <span class=\"rateit\" data-rateit-ispreset=\"true\" data-rateit-readonly=\"true\" data-rateit-value=\"4.9\" title=\"4.9 Stars\"></span>\n",
       " <br/>\n",
       "                         Provides Easy to Understand Information\n",
       "                     </div>\n",
       " </div>\n",
       " <div class=\"ratings\">\n",
       " <div>\n",
       " <span class=\"rateit\" data-rateit-ispreset=\"true\" data-rateit-readonly=\"true\" data-rateit-value=\"4.9\" title=\"4.9 Stars\"></span>\n",
       " <br/>\n",
       "                         Explains in a Way You Understand\n",
       "                     </div>\n",
       " </div>\n",
       " </div>]"
      ]
     },
     "execution_count": 6,
     "metadata": {},
     "output_type": "execute_result"
    }
   ],
   "source": [
    "soup.find_all('div',class_='ratingResults')"
   ]
  },
  {
   "cell_type": "code",
   "execution_count": null,
   "metadata": {
    "collapsed": true
   },
   "outputs": [],
   "source": []
  },
  {
   "cell_type": "code",
   "execution_count": null,
   "metadata": {
    "collapsed": true
   },
   "outputs": [],
   "source": [
    "<a href=\"PhysicianBioQuery.aspx?EPCDID=7034&amp;lang=&amp;hosp=0#results\">\n",
    "                                    <div class=\"resultImage\">\n",
    "                                        <img src=\"App_Themes/UPMC/img/no_photo.png\" alt=\"\" onerror=\"this.onerror=null;this.src='App_Themes/UPMC/img/no_photo.png'\" class=\"img-responsive\">\n",
    "                                    </div>                            \n",
    "                                </a>"
   ]
  },
  {
   "cell_type": "code",
   "execution_count": 22,
   "metadata": {
    "collapsed": true
   },
   "outputs": [],
   "source": [
    "url = 'http://findadoc.upmc.com/FindADocQuery.aspx?EMGFW_SafeSessionKey=EMGFW_SafeSession1000000&lang=&hosp=1569#results'\n",
    "response = requests.get(url)\n",
    "\n",
    "html = response.content.decode('utf-8')\n",
    "soup = BeautifulSoup(html,'lxml')"
   ]
  },
  {
   "cell_type": "code",
   "execution_count": 23,
   "metadata": {},
   "outputs": [
    {
     "data": {
      "text/plain": [
       "'4.8'"
      ]
     },
     "execution_count": 23,
     "metadata": {},
     "output_type": "execute_result"
    }
   ],
   "source": [
    "soup.find_all('div',class_='ratingStars')[0].find_all('div')[0].get('data-rateit-value')"
   ]
  },
  {
   "cell_type": "code",
   "execution_count": 250,
   "metadata": {
    "scrolled": true
   },
   "outputs": [
    {
     "data": {
      "text/plain": [
       "'\\r\\n\\r\\n<!doctype html> \\r\\n<!--[if lt IE 7 ]> <html lang=\"en\" class=\"no-js ie6\"> <![endif]-->\\r\\n<!--[if IE 7 ]>    <html lang=\"en\" class=\"no-js ie7\"> <![endif]-->\\r\\n<!--[if IE 8 ]>    <html lang=\"en\" class=\"no-js ie8\"> <![endif]-->\\r\\n<!--[if IE 9 ]>    <html lang=\"en\" class=\"no-js ie9\"> <![endif]-->\\r\\n<!--[if (gt IE 9)|!(IE)]><!--> <html lang=\"en\" class=\"no-js\"> <!--<![endif]-->\\r\\n\\r\\n<head EMGFW_SafeSessionKey=\"EMGFW_SafeSession1000000\"><meta charset=\"utf-8\" /><meta http-equiv=\"X-UA-Compatible\" content=\"IE=edge\" /><meta name=\"viewport\" content=\"width=device-width, initial-scale=1\" /><meta name=\"google-site-verification\" content=\"7i5vgy7UPjQKFhXUDBmLi_jq5DaoqEkiK-D-K4BsOrQ\" /><meta id=\"ctl00_PageDescription\" name=\"Description\" content=\"Use our Find a Doc to browse UPMC physicians and medical professionals. Customize your search by last name, specialty, zip code, or practice name.\" /><script type=\"text/javascript\" src=\"/ruxitagentjs_2fqr_10127170907093811.js\" data-dtconfig=\"rid=RID_-1899338764|rpid=419443219|domain=upmc.com|reportUrl=/rb_8a29cf81-f6cd-4e72-b7fb-dbafe59c2555|featureHash=2fqr|lastModification=1507545723191|dtVersion=10127170907093811|tp=500,50,0,1\"></script><link rel=\"shortcut icon\" href=\"http://www.upmc.com/PublishingImages/favicon.ico\" type=\"image/x-icon\" /><title>\\r\\n\\tFind A Doctor, UPMC\\r\\n</title>\\r\\n        \\r\\n    <!-- Bootstrap core CSS -->\\r\\n    <link href=\"bootstrap/css/bootstrap.css\" rel=\"stylesheet\" />\\r\\n    \\r\\n\\r\\n    <!-- Custom styles for this template -->\\r\\n    <link href=\"bootstrap/css/sticky-footer-navbar.css\" rel=\"stylesheet\" />\\r\\n\\r\\n    <!-- Just for debugging purposes. Don\\'t actually copy these 2 lines! -->\\r\\n    <!--[if lt IE 9]><script src=\"../../assets/js/ie8-responsive-file-warning.js\"></script><![endif]-->\\r\\n    \\r\\n\\r\\n    <!-- HTML5 shim and Respond.js for IE8 support of HTML5 elements and media queries -->\\r\\n    <!--[if lt IE 9]>\\r\\n      <script src=\"https://oss.maxcdn.com/html5shiv/3.7.2/html5shiv.min.js\"></script>\\r\\n      <script src=\"https://oss.maxcdn.com/respond/1.4.2/respond.min.js\"></script>\\r\\n    <![endif]-->\\r\\n\\r\\n    <link href=\"http://www.upmc.com/Style Library/UPMC Styles/newNav/newNav.css\" rel=\"Stylesheet\" /><link href=\"http://www.upmc.com/Style Library/UPMC Styles/FindaDoc/custom.css\" rel=\"Stylesheet\" /><link href=\"http://www.upmc.com/Style Library/UPMC Styles/FindaDoc/table.css\" rel=\"Stylesheet\" /><link href=\"App_Themes/UPMC/rateit.css\" rel=\"stylesheet\" /><link rel=\"stylesheet\" type=\"text/css\" href=\"App_Themes/UPMC/tooltipster.css\" /><link rel=\"stylesheet\" type=\"text/css\" href=\"App_Themes/UPMC/tooltipster-shadow.css\" /><link rel=\"stylesheet\" href=\"fancybox/source/helpers/jquery.fancybox-thumbs.css\" type=\"text/css\" media=\"screen\" /><link rel=\"stylesheet\" href=\"http://ajax.googleapis.com/ajax/libs/jqueryui/1.10.3/themes/overcast/jquery-ui.css\" />\\r\\n    \\r\\n    <script type=\"text/javascript\" src=\"http://code.jquery.com/jquery.min.js\"></script>\\r\\n    <script src=\"https://cdnjs.cloudflare.com/ajax/libs/modernizr/2.8.3/modernizr.min.js\"></script>\\r\\n\\r\\n    <script src=\"http://www.upmc.com/script%20library/js/livePersonChat/le-mtagconfig.js\" type=\"text/javascript\"></script>\\r\\n    \\r\\n    <!-- Google Tag Manager --> \\r\\n    <script type=\"text/javascript\"> \\r\\n        (function (w, d, s, l, i) { \\r\\n            w[l] = w[l] || []; \\r\\n            w[l].push({ \\r\\n                \\'gtm.start\\': new Date().getTime(), \\r\\n                event: \\'gtm.js\\' \\r\\n            }); \\r\\n            var f = d.getElementsByTagName(s)[0], \\r\\n            j = d.createElement(s), \\r\\n            dl = l != \\'dataLayer\\' ? \\'&l=\\' + l : \\'\\'; \\r\\n            j.async = true; \\r\\n            j.src = \\r\\n            \\'//www.googletagmanager.com/gtm.js?id=\\' + i + dl; \\r\\n            f.parentNode.insertBefore(j, f); \\r\\n        })(window, document, \\'script\\', \\'dataLayer\\', \\'GTM-M77D\\'); \\r\\n        function ready(readyEvent) {\\r\\n\\r\\n            if(document.addEventListener){document.addEventListener(\"DOMContentLoaded\",function(){readyEvent();},false);} \\r\\n            else if(document.attachEvent){document.attachEvent(\"onreadystatechange\",function(){if(document.readyState===\"complete\"){readyEvent();}});} \\r\\n            else{window.addEventListener(\"load\",function(){readyEvent();},false);} \\r\\n        }\\r\\n        function appendTag(tagSource){ \\r\\n            var script = document.createElement(\\'script\\'); script.type = \\'text/javascript\\'; script.async = \\'true\\'; script.src = tagSource; \\r\\n            document.body.appendChild(script); \\r\\n        }\\r\\n        ready(function(){ \\r\\n            if (document.location.protocol == \\'https:\\') appendTag(\\'https://secure.upmc.com/scripts/js/supplemental-analytics.js\\'); //https location \\r\\n            else appendTag(\\'http://www.upmc.com/script%20library/js/supplemental-analytics.js\\'); //http location \\r\\n        }); \\r\\n    </script> \\r\\n\\r\\n    <script src=\"http://www.upmc.com/documents/foresee/foresee-trigger.js\" type=\"text/javascript\"></script>\\r\\n\\r\\n</head>\\r\\n<body id=\"ctl00_DefaultBody\">\\r\\n    <form name=\"aspnetForm\" method=\"post\" action=\"./FindADocQuery.aspx?EMGFW_SafeSessionKey=EMGFW_SafeSession1000000&amp;lang=&amp;hosp=1569\" id=\"aspnetForm\">\\r\\n<input type=\"hidden\" name=\"EMGFW_SafeSessionKey\" id=\"EMGFW_SafeSessionKey\" value=\"EMGFW_SafeSession1000000\" />\\r\\n<input type=\"hidden\" name=\"__VIEWSTATE\" id=\"__VIEWSTATE\" value=\"\" />\\r\\n\\r\\n<input type=\"hidden\" name=\"__EVENTVALIDATION\" id=\"__EVENTVALIDATION\" value=\"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\" />\\r\\n\\r\\n        <div class=\"container\">\\r\\n            <!-- NAV BAR -->\\r\\n            <header>\\r\\n                <div id=\"menu\" class=\"navbar navbar-default navbar-fixed-top\">\\r\\n                    <div class=\"col-sm-4 col-md-3 mobileNavTop\">\\r\\n                        <div class=\"navbar-header\">\\r\\n                            <button type=\"button\" class=\"navbar-toggle collapsed\" data-toggle=\"collapse\" data-target=\"#navbar\" aria-expanded=\"false\" aria-controls=\"navbar\">\\r\\n                                <span class=\"sr-only\">Toggle navigation</span>\\r\\n                                <span class=\"icon-bar\"></span>\\r\\n                                <span class=\"icon-bar\"></span>\\r\\n                                <span class=\"icon-bar\"></span>\\r\\n                            </button>\\r\\n                            <a href=\"http://www.upmc.com/Pages/default.aspx\"><img src=\"img/logo.png\" alt=\"UPMC\" class=\"img-responsive\" /></a>\\r\\n                        </div>\\r\\n                    </div>        \\r\\n                    <div id=\"topLinks\" class=\"col-sm-12 col-md-9 hidden-xs\" style=\"padding-right:0;\">\\r\\n\\t                    <a href=\"https://myupmc.upmc.com/\" class=\"topLink\" id=\"myUPMC\" target=\"_blank\">\\r\\n\\t\\t                    <span class=\"myColor\">My</span>UPMC\\r\\n\\t                    </a>\\r\\n\\t                    <a href=\"http://findadoc.upmc.com/FindADocSearch.aspx\" class=\"topLink\" id=\"fad\">\\r\\n\\t\\t                    Find a Doctor\\r\\n\\t                    </a>\\r\\n\\t                    <a href=\"http://careers.upmc.com/\" class=\"topLink\" id=\"careers\" target=\"_blank\">\\r\\n\\t\\t                    Careers\\r\\n\\t                    </a>\\r\\n\\t                    <a href=\"javascript:void(0)\" class=\"topLink\" id=\"resources\">\\r\\n\\t\\t                    Resources\\r\\n\\t                    </a>\\r\\n\\t                    \\r\\n\\t                    <div id=\"mainSearchArea\">\\r\\n\\t\\t                    <div id=\"mainSearch\" class=\"ms-sbcell2\">\\r\\n\\t\\t\\t                    <input type=\"text\" id=\"searchbox\" name=\"InputKeywords\" class=\"ui-autocomplete-input\" autocomplete=\"off\"><span role=\"status\" aria-live=\"polite\" class=\"ui-helper-hidden-accessible\"></span>\\r\\n\\t\\t                    </div>\\r\\n\\t\\t                    <div id=\"mainSearchGo\"></div>\\r\\n\\t                    </div>\\r\\n                            \\r\\n                        <div id=\"resourcesDD\" class=\"DD\">\\r\\n                            <a href=\"http://www.upmc.com/contact/Pages/appointment-request.aspx\">Request an Appointment</a>\\r\\n                            <a href=\"https://paybill.upmc.com/\" target=\"_blank\">Pay My Bill</a>\\r\\n                            <a href=\"http://www.upmc.com/locations/hospitals/Pages/default.aspx\">UPMC Hospitals</a>\\r\\n                            <a href=\"http://www.upmc.com/services/urgent-care/locations/pages/urgentcarelocations.aspx\" target=\"_blank\">Find UPMC Urgent Care Centers</a>\\r\\n                            <a href=\"http://www.upmc.com/locations/community/Pages/default.aspx\">Outpatient Facilities</a>\\r\\n                            <a href=\"http://www.upmc.com/patients-visitors/Pages/classes-events.aspx\">Find a Class or Event</a>\\r\\n                            <a href=\"http://www.upmc.com/about/community-commitment/financial-assistance/Pages/default.aspx\">Find Financial Assistance Options</a>\\r\\n                            <a href=\"http://www.upmc.com/about/support/giving/Pages/volunteer.aspx\">Volunteer at UPMC</a>\\r\\n                            <a href=\"http://www.upmchealthplan.com/\" target=\"_blank\">UPMC Health Plan</a>\\r\\n                        </div>\\r\\n                    </div>\\r\\n                    <div id=\"navbar\" class=\"collapse navbar-collapse hidden-md\">\\r\\n                        <ul class=\"\">\\r\\n                            <li class=\"active\"><a href=\"http://www.upmc.com/patients-families/pages/default.aspx\">For Patients, Families &amp; Visitors</a></li>\\r\\n                            <li><a href=\"http://www.upmc.com/healthcare-professionals/pages/default.aspx\">For Health Care Professionals</a></li>\\r\\n                            <li><a href=\"http://www.upmc.com/about/pages/default.aspx\">About UPMC</a></li>\\r\\n                        </ul>\\r\\n                    </div>\\r\\n                </div>\\r\\n\\r\\n\\t            <div id=\"newTopNav\"  class=\"row hidden-xs\"> \\r\\n\\t\\t            <div id=\"btnPatients\" class=\"topButton\">\\r\\n\\t\\t\\t            <div id=\"patientsDD\" class=\"DD\">\\r\\n\\t\\t\\t\\t            <a href=\"http://www.upmc.com/patients-families/pages/default.aspx\" id=\"/patients-families/pages/default.aspx\">Patients, Families &amp; Visitors</a>\\t\\r\\n\\t\\t\\t\\t            <a href=\"http://www.upmc.com/services/pages/default.aspx\" id=\"/services/pages/default.aspx\">Our Services</a>\\r\\n\\t\\t\\t\\t            <a href=\"http://www.upmc.com/locations/pages/default.aspx\">Locations</a>\\r\\n\\t\\t\\t\\t            <a href=\"http://www.upmc.com/health-library/pages/default.aspx\">Health Library</a>\\r\\n\\t\\t\\t\\t            <a href=\"http://www.upmc.com/patients-visitors/pages/default.aspx\">Patient &amp; Visitor Resources</a>\\r\\n\\t\\t\\t\\t            <a href=\"http://www.upmc.com/video/pages/default.aspx\">Video Library</a>\\r\\n\\t\\t\\t            </div>\\r\\n\\t\\t            </div>\\r\\n\\r\\n\\t\\t            <div id=\"btnHCP\" class=\"topButton\" alt=\"test data\">\\r\\n\\t\\t\\t            <div id=\"HCPDD\" class=\"DD\">\\r\\n\\t\\t\\t\\t            <a href=\"http://www.upmc.com/healthcare-professionals/pages/default.aspx\" id=\"/healthcare-professionals/pages/default.aspx\">Health Care Professionals</a>\\r\\n\\t\\t\\t\\t            <a href=\"http://www.upmc.com/healthcare-professionals/physicians/pages/default.aspx\" id=\"/healthcare-professionals/physicians/pages/default.aspx\">For Physicians</a>\\r\\n\\t\\t\\t\\t            <a href=\"http://www.upmc.com/healthcare-professionals/education/pages/default.aspx\">Education &amp; Training</a>\\r\\n\\t\\t\\t\\t            <a href=\"http://www.upmc.com/healthcare-professionals/resources/pages/default.aspx\">Tools &amp; Resources</a>\\r\\n\\t\\t\\t\\t            <a href=\"http://www.upmc.com/healthcare-professionals/departments/pages/default.aspx\">Departments &amp; Divisions</a>\\r\\n\\t\\t\\t            </div>\\r\\n\\t\\t            </div>\\r\\n\\r\\n\\t\\t            <div id=\"btnAbout\" class=\"topButton\">\\r\\n\\t\\t\\t            <div id=\"aboutDD\" class=\"DD\">\\r\\n\\t\\t\\t\\t            <a href=\"http://www.upmc.com/about/pages/default.aspx\" id=\"/about/pages/default.aspx\">About UPMC</a>\\r\\n\\t\\t\\t\\t            <a href=\"http://www.upmc.com/about/why-upmc/pages/default.aspx\" id=\"/about/why-upmc/pages/default.aspx\">Why UPMC?</a>\\r\\n\\t\\t\\t\\t            <a href=\"http://www.upmc.com/about/facts/pages/default.aspx\" id=\"/about/facts/pages/default.aspx\">Facts &amp; Stats</a>\\r\\n\\t\\t\\t\\t            <a href=\"http://www.upmc.com/about/partners/pages/default.aspx\">Commercial Partners</a>\\r\\n\\t\\t\\t\\t            <a href=\"http://www.upmc.com/about/community-commitment/pages/default.aspx\">Community Commitment</a>\\r\\n\\t\\t\\t\\t            <a href=\"http://www.upmc.com/careers/pages/default.aspx\">Careers</a>\\r\\n\\t\\t\\t\\t            <a href=\"http://www.upmc.com/media/pages/default.aspx\">Newsroom</a>\\r\\n\\t\\t\\t\\t            <a href=\"http://www.upmc.com/about/support/pages/default.aspx\">Supporting UPMC</a>\\r\\n\\t\\t\\t            </div>\\r\\n\\t\\t            </div>\\r\\n\\t            </div>\\r\\n            </header>\\r\\n        \\r\\n            <!-- NEW ROW - Begin page content -->\\r\\n            <div class=\"row\">\\r\\n                <div class=\"page-header\">\\r\\n                    <div class=\"row fadTop\">\\r\\n                        <div class=\"col-xs-12 col-sm-6 col-md-8\">\\r\\n                            <h1>Find a Doctor</h1>\\r\\n                            \\r\\n                            <p>To speak with an appointment scheduler, call <b>1-800-533-UPMC</b> between 7 a.m. and 7 p.m. Monday through Friday.</p> \\r\\n                            <span style=\"font-size:12px\">Note: We can schedule appointments for many — but not all — UPMC doctors and locations at this number.</span>                       \\r\\n                        </div>\\r\\n                        <div class=\"col-xs-12 col-sm-6 col-md-4\">\\r\\n                            <div id=\"ctl00_overall\" class=\"overall hidden-xs\">\\r\\n\\t\\t\\t\\t\\t\\t\\t\\t<div class=\"ov_ex\">\\r\\n\\t\\t\\t\\t\\t\\t\\t\\t\\tUPMC Overall Patient Satisfaction Rating\\r\\n\\t\\t\\t\\t\\t\\t\\t\\t</div>\\r\\n\\t\\t\\t\\t\\t\\t\\t\\t<div class=\"ratingCont\">\\r\\n                                    <div class=\"ratingStars\">\\r\\n\\t\\t\\t\\t\\t\\t\\t\\t\\t    <div class=\"rateit\" data-rateit-ispreset=\"true\" data-rateit-readonly=\"true\" data-rateit-value=\"4.8\" title=\"4.8 Stars\"></div>\\r\\n\\t\\t\\t\\t\\t\\t\\t\\t\\t    <div class=\"ov_rating\">4.8 out of 5</div>\\r\\n                                    </div>\\r\\n\\t\\t\\t\\t\\t\\t\\t\\t\\t<div class=\"ov_reviews\">434,540 Reviews</div>\\r\\n\\t\\t\\t\\t\\t\\t\\t\\t</div>\\r\\n\\t\\t\\t\\t\\t\\t\\t</div>\\r\\n                            <div id=\"LP_DIV_1475772102412\"></div>\\r\\n                        </div>\\r\\n                    </div>                    \\r\\n                </div>\\r\\n            </div>\\r\\n\\r\\n            <!-- NEW ROW - Begin Search Area -->\\r\\n            <div class=\"row searchByPreferences\">\\r\\n                <div class=\"span10 searchPreferences_inside\"> \\r\\n                    <h4 style=\"color: #959836;\">Search for a UPMC doctor near you</h4>   \\r\\n                    <div class=\"row searchContainer\">\\r\\n                        <div class=\"col-xs-12 col-md-8 firstCol searchCol\">\\r\\n                            <div class=\"row\">\\r\\n                                <div class=\"col-xs-12 col-md-6\">\\r\\n                                    <input name=\"ctl00$txtDocName\" id=\"ctl00_txtDocName\" name=\"txtDocName\" type=\"text\" class=\"doctorText form-control\" placeholder=\"Last Name\" />\\r\\n                                    <div class=\"ui-widget\">\\r\\n                                        <div role=\"status\" aria-live=\"polite\" class=\"ui-helper-hidden-accessible\"></div>\\r\\n                                        <input name=\"ctl00$txtSpecialty\" id=\"ctl00_txtSpecialty\" name=\"txtSpecialty\" type=\"text\" class=\"specialty ui-autocomplete-input form-control\" placeholder=\"Specialty\" autocomplete=\"off\" />\\r\\n                                    </div>                                          \\r\\n                                    <div class=\"zipSec\">\\r\\n                                        <input name=\"ctl00$txtZip\" type=\"text\" maxlength=\"5\" id=\"ctl00_txtZip\" name=\"txtZip\" placeholder=\"Zip\" class=\"form-control\" />\\r\\n                                        <select name=\"ctl00$zipRadius\" id=\"ctl00_zipRadius\" name=\"zipRadius\" class=\"form-control\">\\r\\n\\t<option selected=\"selected\" value=\"\">Radius</option>\\r\\n\\t<option value=\"5\">5 Miles</option>\\r\\n\\t<option value=\"10\">10 Miles</option>\\r\\n\\t<option value=\"20\">20 Miles</option>\\r\\n\\t<option value=\"50\">50 Miles</option>\\r\\n\\r\\n</select>\\r\\n                                    </div>\\r\\n                                </div>\\r\\n                                <div class=\"col-xs-12 col-md-6\" style=\"margin-left: 0;\">\\r\\n                                    <div class=\" divtable accordion-xs\">\\r\\n                                        <div class=\\'tr\\' style=\"padding:0;\">\\r\\n                                            <div class=\\'td accordion-xs-toggle\\'>\\r\\n                                                <h5>Narrow your search:</h5>\\r\\n                                            </div>\\r\\n                                            <div class=\\'accordion-xs-collapse\\' style=\"width:100%\">                                    \\r\\n                                                <div id=\"gender\" class=\"hidden-xs\">                            \\r\\n                                                    <div class=\"checkbox\">\\r\\n                                                        <span type=\"checkbox\" name=\"CheckBoxM\"><input id=\"ctl00_CheckBoxM\" type=\"checkbox\" name=\"ctl00$CheckBoxM\" /></span>\\r\\n                                                        <label for=\"CheckBoxM\">Male</label>\\r\\n                                                    </div>                       \\r\\n                                                    <div class=\"checkbox\">\\r\\n                                                        <span type=\"checkbox\" name=\"CheckBoxF\"><input id=\"ctl00_CheckBoxF\" type=\"checkbox\" name=\"ctl00$CheckBoxF\" /></span>\\r\\n                                                        <label for=\"CheckBoxF\">Female</label>\\r\\n                                                    </div>\\r\\n                                                </div>\\r\\n                                                <div id=\"languageHospitalContainer\">                         \\r\\n                                                    <select name=\"ctl00$DropDownListLanguage\" id=\"ctl00_DropDownListLanguage\" name=\"DropDownListLanguage\" class=\"form-control\">\\r\\n\\t<option value=\"\">Language</option>\\r\\n\\t<option value=\"120\">Afrikaan</option>\\r\\n\\t<option value=\"4\">Arabic</option>\\r\\n\\t<option value=\"5\">Bengali</option>\\r\\n\\t<option value=\"186\">Bosnian</option>\\r\\n\\t<option value=\"8\">Bulgarian</option>\\r\\n\\t<option value=\"9\">Burmese</option>\\r\\n\\t<option value=\"10\">Cantonese</option>\\r\\n\\t<option value=\"11\">Catalan</option>\\r\\n\\t<option value=\"12\">Chinese</option>\\r\\n\\t<option value=\"13\">Chinese (Mandarin)</option>\\r\\n\\t<option value=\"15\">Creole</option>\\r\\n\\t<option value=\"17\">Croatian</option>\\r\\n\\t<option value=\"19\">Czech</option>\\r\\n\\t<option value=\"20\">Dutch</option>\\r\\n\\t<option value=\"24\">Farsi</option>\\r\\n\\t<option value=\"25\">Filipino</option>\\r\\n\\t<option value=\"30\">French</option>\\r\\n\\t<option value=\"32\">Gaelic</option>\\r\\n\\t<option value=\"35\">German</option>\\r\\n\\t<option value=\"37\">Greek</option>\\r\\n\\t<option value=\"38\">Gujarati</option>\\r\\n\\t<option value=\"42\">Hebrew</option>\\r\\n\\t<option value=\"43\">Hindi</option>\\r\\n\\t<option value=\"46\">Hungarian</option>\\r\\n\\t<option value=\"136\">Ibo</option>\\r\\n\\t<option value=\"49\">Indian</option>\\r\\n\\t<option value=\"52\">Italian</option>\\r\\n\\t<option value=\"53\">Japanese</option>\\r\\n\\t<option value=\"54\">Kannada</option>\\r\\n\\t<option value=\"190\">Kashmiri            </option>\\r\\n\\t<option value=\"58\">Korean</option>\\r\\n\\t<option value=\"59\">Kurdish</option>\\r\\n\\t<option value=\"61\">Latin</option>\\r\\n\\t<option value=\"143\">Lebanese</option>\\r\\n\\t<option value=\"63\">Lithuanian</option>\\r\\n\\t<option value=\"47\">Malayalam</option>\\r\\n\\t<option value=\"65\">Malaysian</option>\\r\\n\\t<option value=\"67\">Marathi</option>\\r\\n\\t<option value=\"69\">Norwegian</option>\\r\\n\\t<option value=\"72\">Persian</option>\\r\\n\\t<option value=\"77\">Polish</option>\\r\\n\\t<option value=\"192\">Portuguese</option>\\r\\n\\t<option value=\"81\">Punjabi</option>\\r\\n\\t<option value=\"84\">Romanian</option>\\r\\n\\t<option value=\"85\">Russian</option>\\r\\n\\t<option value=\"184\">Sanskrit</option>\\r\\n\\t<option value=\"87\">Serbian</option>\\r\\n\\t<option value=\"89\">Sign Language</option>\\r\\n\\t<option value=\"153\">Sindhi</option>\\r\\n\\t<option value=\"94\">Spanish</option>\\r\\n\\t<option value=\"96\">Sri-Lankan</option>\\r\\n\\t<option value=\"193\">Swahili</option>\\r\\n\\t<option value=\"99\">Swedish</option>\\r\\n\\t<option value=\"101\">Tagalog</option>\\r\\n\\t<option value=\"102\">Taiwanese</option>\\r\\n\\t<option value=\"104\">Tamil</option>\\r\\n\\t<option value=\"106\">Telugu</option>\\r\\n\\t<option value=\"110\">Thai</option>\\r\\n\\t<option value=\"112\">Turkish</option>\\r\\n\\t<option value=\"113\">Ukrainian</option>\\r\\n\\t<option value=\"115\">Urdu</option>\\r\\n\\t<option value=\"16\">Vietnamese</option>\\r\\n\\t<option value=\"119\">Yiddish</option>\\r\\n\\t<option value=\"165\">Yoruba</option>\\r\\n\\r\\n</select>\\r\\n                                                    <select name=\"ctl00$cmbHospital\" id=\"ctl00_cmbHospital\" name=\"cmbHospital\" class=\"form-control\">\\r\\n\\t<option value=\"\">Hospital</option>\\r\\n\\t<option value=\"1562\">Children&#39;s Hospital of Pittsburgh of UPMC</option>\\r\\n\\t<option value=\"1565\">UPMC East</option>\\r\\n\\t<option value=\"1080\">UPMC Hamot</option>\\r\\n\\t<option value=\"1571\">Magee-Womens Hospital</option>\\r\\n\\t<option value=\"1569\">UPMC Mercy</option>\\r\\n\\t<option value=\"1573\">UPMC Monroeville Surgery Center</option>\\r\\n\\t<option value=\"1568\">UPMC Presbyterian</option>\\r\\n\\t<option value=\"1063\">UPMC Altoona</option>\\r\\n\\t<option value=\"1059\">UPMC Bedford</option>\\r\\n\\t<option value=\"1567\">UPMC Horizon</option>\\r\\n\\t<option value=\"1561\">UPMC Jameson</option>\\r\\n\\t<option value=\"1566\">UPMC McKeesport</option>\\r\\n\\t<option value=\"1112\">UPMC Northwest</option>\\r\\n\\t<option value=\"1564\">UPMC Passavant</option>\\r\\n\\t<option value=\"1563\">UPMC Shadyside</option>\\r\\n\\t<option value=\"1572\">UPMC St. Margaret</option>\\r\\n\\r\\n</select>\\r\\n                                                </div>                     \\r\\n                                                <div class=\"checkboxes\">\\r\\n                                                    <div class=\"checkbox\">\\r\\n                                                        <span type=\"checkbox\" name=\"CheckBoxDoc\"><input id=\"ctl00_CheckBoxDoc\" type=\"checkbox\" name=\"ctl00$CheckBoxDoc\" checked=\"checked\" /></span>\\r\\n                                                        <label for=\"CheckBoxDoc\">Doctors</label>\\r\\n                                                    </div>\\r\\n                                                    <div class=\"checkbox\">\\r\\n                                                        <span type=\"checkbox\" name=\"CheckBoxPa\"><input id=\"ctl00_CheckBoxPa\" type=\"checkbox\" name=\"ctl00$CheckBoxPa\" checked=\"checked\" /></span>\\r\\n                                                        <label for=\"CheckBoxPa\">Physician Assistants</label>\\r\\n                                                        <img src=\"App_Themes/UPMC/img/question_mark.png\" class=\"question-mark tooltip1 tooltipstered\" data-placement=\"left\" data-toggle=\"tooltip\" href=\"#\" data-original-title=\"Tooltip on left\" />\\r\\n                                                    </div>                         \\r\\n\\r\\n                                                    <div class=\"checkbox\">\\r\\n                                                        <span type=\"checkbox\" name=\"CheckBoxMW\"><input id=\"ctl00_CheckBoxMW\" type=\"checkbox\" name=\"ctl00$CheckBoxMW\" checked=\"checked\" /></span>\\r\\n                                                        <label for=\"CheckBoxMW\">Midwives</label>\\r\\n                                                        <img src=\"App_Themes/UPMC/img/question_mark.png\" class=\"question-mark tooltip3 tooltipstered\" /> \\r\\n                                                    </div>  \\r\\n                                                    <div class=\"checkbox\">\\r\\n                                                        <span type=\"checkbox\" name=\"CheckBoxCRNP\"><input id=\"ctl00_CheckBoxCRNP\" type=\"checkbox\" name=\"ctl00$CheckBoxCRNP\" checked=\"checked\" /></span>\\r\\n                                                        <label for=\"CheckBoxCRNP\">Nurse Practitioners</label>\\r\\n                                                        <img src=\"App_Themes/UPMC/img/question_mark.png\" class=\"question-mark tooltip2 tooltipstered\" />\\r\\n                                                    </div>       \\r\\n                                                </div>\\r\\n                                            </div>\\r\\n                                        </div>\\r\\n                                    </div>\\r\\n                                </div>\\r\\n                            </div>    \\r\\n                        </div>\\r\\n                        \\r\\n                        <div class=\"col-xs-12 col-md-4 searchColRight\">\\r\\n                            <img src=\"App_Themes/UPMC/img/or.png\" class=\"or_img\">\\r\\n                            <input name=\"ctl00$txtPracticeName\" id=\"ctl00_txtPracticeName\" name=\"txtPracticeName\" type=\"text\" class=\"practiceText form-control\" placeholder=\"Practice Name\" />\\r\\n                        </div>\\r\\n                    </div>\\r\\n                    <span id=\"ctl00_searchError\" class=\"searchError\">There are 0 results for your search. <br/>Please try searching again or call 1-800-533-UPMC to speak with a representative.</span>\\r\\n                    \\r\\n                    <div class=\"col-xs-12 col-md-8 bottom\">\\r\\n                        <input type=\"submit\" name=\"ctl00$btnFADSearch\" value=\"SEARCH\" id=\"ctl00_btnFADSearch\" class=\"fadSearchButton btn btn-primary btn-lg\" />\\r\\n                        <input type=\"submit\" name=\"ctl00$btnFADReset\" value=\"RESET\" id=\"ctl00_btnFADReset\" class=\"fadSearchButton btn btn-primary btn-lg\" />\\t \\r\\n                    \\r\\n                    </div>\\r\\n                    <div class=\"calloutTextSm visible-xs\">\\r\\n                        <p>To speak with an appointment scheduler, call <a href=\"tel:1-800-533-8762\" class=\"telephone\"><b>1-800-533-UPMC</b></a> between 7 a.m. and 7 p.m. Monday through Friday.</p> \\r\\n                        <span style=\"font-size:12px\">Note: We can schedule appointments for many — but not all — UPMC doctors and locations at this number.</span>                       \\r\\n                    </div>\\r\\n                </div>\\r\\n            </div>\\r\\n\\r\\n            \\r\\n    <div class=\"resultSection\">\\r\\n        \\r\\n    </div>\\r\\n\\r\\n\\r\\n            <!-- NEW ROW - Begin Callout Boxes -->\\r\\n            \\r\\n            \\r\\n                \\r\\n            <footer class=\"footer\">\\r\\n                <div class=\"row footerContainer\">\\r\\n                    <div class=\"col-xs-6 col-sm-3 footIn\">\\r\\n                        <h6>Find</h6>\\r\\n                        <ul>\\r\\n\\t\\t\\t                <li class=\"footerLinksStacked\"><a href=\"http://findadoc.upmc.com/FindADocSearch.aspx\">Find a Doctor</a></li>\\r\\n\\t\\t\\t                <li class=\"footerLinksStacked\"><a href=\"http://www.upmc.com/contact/Pages/appointment-request.aspx\">Request an Appointment</a></li>\\r\\n\\t\\t\\t                <li class=\"footerLinksStacked\"><a href=\"http://www.upmc.com/locations/Pages/default.aspx\">UPMC Locations</a></li>\\r\\n                            <li class=\"footerLinksStacked\"><a href=\"https://paybill.upmc.com/OBP/DefaultWeb.aspx\" target=\"_blank\">Pay My Bill</a></li>\\r\\n\\t\\t\\t                <li class=\"footerLinksStacked\"><a href=\"https://myupmc.upmc.com/\" target=\"_blank\">MyUPMC</a></li>\\r\\n\\t\\t\\t                <li class=\"footerLinksStacked\"><a href=\"http://www.upmc.com/patients-visitors/medical-records/Pages/default.aspx\">Get My Medical Records</a></li>\\r\\n\\t\\t\\t                <li class=\"footerLinksStacked\"><a href=\"http://www.upmc.com/services/urgent-care/pages/default.aspx\" target=\"_blank\">Urgent Care</a></li>\\r\\n                        </ul>\\r\\n                    </div>\\r\\n                    <div class=\"footerDivider\"></div>\\r\\n                    <div class=\"col-xs-6 col-sm-2 footIn\">\\r\\n                        <h6>Explore</h6>\\r\\n                        <ul>\\r\\n\\t\\t\\t                <li class=\"footerLinksStacked\"><a href=\"http://www.upmc.com/Services/Pages/default.aspx\">Our Clinical Services</a></li>\\r\\n\\t\\t\\t                <li class=\"footerLinksStacked\"><a href=\"http://www.upmc.com/patients-visitors/Pages/classes-events.aspx\">Classes &amp; Events</a></li>\\r\\n\\t\\t\\t                <li class=\"footerLinksStacked\"><a href=\"http://www.upmc.com/Video/Pages/default.aspx\">Video Library</a></li>\\r\\n\\t\\t\\t                <li class=\"footerLinksStacked\"><a href=\"http://www.upmc.com/careers/Pages/default.aspx\">Career Opportunities</a></li>\\r\\n\\t\\t\\t                <li class=\"footerLinksStacked\"><a href=\"http://www.upmc.com/media/Pages/default.aspx\">News &amp; Media</a></li>\\r\\n\\t\\t\\t                <li class=\"footerLinksStacked\"><a href=\"http://www.upmchealthplan.com/\" target=\"_blank\">UPMC Health Plan</a></li>\\r\\n\\t\\t\\t                <li class=\"footerLinksStacked\"><a href=\"http://www.carepages.com/upmc\" target=\"_blank\">CarePages</a></li>\\r\\n                        </ul>\\r\\n                    </div>\\r\\n                    <div class=\"footerDivider\"></div>\\r\\n                    <div class=\"col-xs-6 col-sm-2 footIn\">\\r\\n                        <h6>Connect</h6>\\r\\n                        <img src=\"App_Themes/UPMC/img/social_footer.png\" border=\"0\" usemap=\"#SocialIcons\">\\r\\n                        <map name=\"SocialIcons\" id=\"SocialIcons\">\\r\\n\\t\\t\\t                <area shape=\"rect\" coords=\"3,2,26,25\" href=\"https://www.facebook.com/upmc?ref=nf\" target=\"_blank\" alt=\"Facebook\" title=\"Facebook\">\\r\\n\\t\\t\\t                <area shape=\"rect\" coords=\"45,2,68,26\" href=\"https://www.pinterest.com/upmc/\" target=\"_blank\" alt=\"Pinterest\" title=\"Pinterest\">\\r\\n\\t\\t\\t                <area shape=\"rect\" coords=\"3,31,26,51\" href=\"https://plus.google.com/+upmc/\" target=\"_blank\" alt=\"Google+\" title=\"Google+\">\\r\\n\\t\\t\\t                <area shape=\"rect\" coords=\"45,30,68,53\" href=\"https://twitter.com/UPMCnews\" target=\"_blank\" alt=\"Twitter\" title=\"Twitter\">\\r\\n\\t\\t\\t                <area shape=\"rect\" coords=\"3,57,26,82\" href=\"https://www.instagram.com/upmchealthbeat/\" target=\"_blank\" alt=\"Instagram\" title=\"Instagram\">\\r\\n\\t\\t\\t                <area shape=\"rect\" coords=\"45,60,68,82\" href=\"http://www.youtube.com/user/upmc\" target=\"_blank\" alt=\"YouTube\" title=\"YouTube\">\\r\\n\\t\\t\\t                <area shape=\"rect\" coords=\"3,88,26,109\" href=\"http://www.linkedin.com/company/upmc\" target=\"_blank\" alt=\"Linked in\" title=\"Linked in\">\\r\\n\\t\\t\\t                <area shape=\"rect\" coords=\"45,86,68,109\" href=\"javascript:void(0)\" id=\"socialPopupToggle\" title=\"Share this page\">\\r\\n\\t\\t\\t                <area shape=\"rect\" coords=\"3,116,69,141\" href=\"http://share.upmc.com/\" target=\"_blank\" alt=\"UPMC Blog\" title=\"UPMC Blog\">\\r\\n\\t\\t                </map>\\r\\n\\t\\t                <div id=\"socialPopup\">\\r\\n\\t\\t\\t                <img src=\"App_Themes/UPMC/img/share_popout.png\" width=\"120\" height=\"100\" border=\"0\" usemap=\"#socialPopupMap\" />\\r\\n\\t\\t\\t                <map name=\"socialPopupMap\" id=\"socialPopupMap\">\\r\\n\\t\\t\\t\\t                <area shape=\"rect\" coords=\"36,31,57,52\" href=\"https://secure.upmc.com/sendtofriend/\" target=\"_blank\" alt=\"Email this page\" title=\"Email this page\" />\\r\\n\\t\\t\\t\\t                <area shape=\"rect\" coords=\"68,31,91,54\" href=\"javascript:void(0)\" alt=\"Tweet this page\" title=\"Tweet this page\" id=\"Area1\" />\\r\\n\\t\\t\\t\\t                <area shape=\"rect\" coords=\"35,61,57,83\" href=\"javascript:void(0)\" alt=\"Share this page on Facebook\" title=\"Share this page on Facebook\" id=\"Area2\" />\\r\\n\\t\\t\\t\\t                <area shape=\"rect\" coords=\"68,60,91,83\" href=\"javascript:void(0)\" alt=\"Share this page on Reddit\" title=\"Share this page on Reddit\" id=\"Area3\" />\\r\\n\\t\\t\\t                </map>\\r\\n\\t\\t                </div>\\r\\n\\r\\n                    </div>\\r\\n                    <div class=\"footerDivider\"></div>\\r\\n                    <div class=\"col-xs-6 col-sm-5 footIn\">\\r\\n\\t\\t\\t\\t\\t\\t<a href=\"https://myupmc.upmc.com/\" target=\"_blank\">\\r\\n\\t\\t\\t\\t\\t\\t\\t<img src=\"http://www.upmc.com/PublishingImages/MyUPMC/MyUPMC_footer6.png\" border=\"0\" alt=\"MyUPMC\" class=\"img-responsive\">\\r\\n\\t\\t\\t\\t\\t\\t</a>\\r\\n                    </div>\\r\\n                    \\r\\n                    <div class=\"col-sm-12 lowerFooter\">\\r\\n\\t\\t                <a href=\"http://www.upmc.com/contact/Pages/default.aspx\">Contact UPMC</a>\\r\\n\\t\\t                <a href=\"http://www.upmc.com/patients-visitors/privacy-info/Pages/terms-of-use.aspx\">Website/E-mail Terms of Use</a>\\r\\n\\t\\t                <a href=\"http://www.upmc.com/patients-visitors/privacy-info/Pages/terms-of-use.aspx#advice\">Medical Advice Disclaimer</a>\\r\\n\\t\\t                <a href=\"http://www.upmc.com/patients-visitors/privacy-info/Pages/default.aspx\">Privacy Information</a>\\r\\n\\t\\t                <a href=\"http://www.upmc.com/patients-visitors/privacy-info/Pages/alerts.aspx\">Privacy and Breach Alerts</a>\\r\\n                    </div>\\r\\n                </div>\\r\\n                <div class=\"col-md-12 copywrite\">\\r\\n\\t\\t\\t        <p>© <span id=\"copywriteDate\">2016</span>\\r\\n\\t\\t\\t        <script>\\r\\n\\t\\t\\t\\t        $(\"#copywriteDate\").html(new Date().getFullYear());\\r\\n\\t\\t\\t        </script>&nbsp;<a href=\"http://www.upmc.com\" id=\"UPMC\">UPMC</a> | \\r\\n\\t\\t\\t        <a href=\"http://www.health.pitt.edu/\" target=\"_blank\" id=\"PittAffiliate\">Affiliated with the University of Pittsburgh Schools of the Health Sciences</a> | Supplemental content provided by Healthwise, Incorporated. To learn more, visit <a title=\"Use this link to visit Healthwise Incorporated in a new window\" onclick=\"_gaq.push([\\'Footer\\', \\'ClickFooter\\', \\'Healthwise\\']);\" href=\"http://www.healthwise.org\" target=\"_blank\">www.healthwise.org</a></p>\\r\\n                </div>\\r\\n            </footer>\\r\\n        </div>\\r\\n    \\r\\n\\r\\n<script type=\"text/javascript\">\\r\\n//<![CDATA[\\r\\nlocation.href=\\'#results\\';//]]>\\r\\n</script>\\r\\n</form>\\r\\n\\r\\n    <!-- Bootstrap core JavaScript -->\\r\\n    <script src=\"https://ajax.googleapis.com/ajax/libs/jquery/1.11.3/jquery.min.js\"></script>\\r\\n    <script src=\"bootstrap/js/bootstrap.min.js\"></script>\\r\\n    <!-- IE10 viewport hack for Surface/desktop Windows 8 bug \\r\\n    <script src=\"../../assets/js/ie10-viewport-bug-workaround.js\"></script>-->\\r\\n\\r\\n    <script type=\"text/javascript\" src=\"http://www.upmc.com/Script%20Library/js/findadoc/table.js\"></script>\\r\\n    <script type=\"text/javascript\" src=\"http://www.upmc.com/Script Library/js/FindaDoc/newNav.js\"></script>\\r\\n    <script type=\"text/javascript\" src=\"js/jquery.rateit.js\"></script>\\r\\n    <script type=\"text/javascript\" src=\"http://www.upmc.com/Script%20Library/js/findadoc/fad.js\"></script>\\r\\n    <script type=\"text/javascript\" src=\"js/jquery.placeholder.js\"></script>\\r\\n    <script type=\"text/javascript\" src=\"http://www.upmc.com/script library/js/findadoc/fadaddons.js\"></script>\\r\\n    <script type=\"text/javascript\" src=\"http://www.upmc.com/Script%20Library/js/clicktocall/clicktocallFAD.js\"></script>\\r\\n    \\r\\n    <!-- FANCYBOX -->\\r\\n    <link rel=\"stylesheet\" href=\"fancybox/source/jquery.fancybox.css\" type=\"text/css\" media=\"screen\" />\\r\\n    <script type=\"text/javascript\" src=\"fancybox/source/jquery.fancybox.pack.js\"></script>\\r\\n    <script type=\"text/javascript\" src=\"fancybox/source/helpers/jquery.fancybox-thumbs.js\"></script>\\r\\n\\r\\n    <script type=\"text/javascript\" src=\"App_Themes/UPMC/jquery.tooltipster.min.js\"></script>\\r\\n    <script type=\"text/javascript\" src=\"http://www.upmc.com/Script Library/js/newNav/customTracking.js\"></script>\\r\\n\\r\\n    <script src=\"http://code.jquery.com/ui/1.10.3/jquery-ui.js\"></script>\\r\\n    <script type=\"text/javascript\">\\r\\n        $(document).ready(function () {\\r\\n            $(\"#learn\").fancybox({\\r\\n                \\'titlePosition\\': \\'inside\\'\\r\\n            });\\r\\n\\r\\n            var specialty = [\"Acupuncture\",\"Addiction Medicine\",\"Addiction Psychiatry\",\"Adolescent Medicine\",\"Advanced Heart Failure/Transplant Cardiology\",\"Allergy \\\\u0026 Immunology\",\"Allergy and Immunology\",\"Anatomic and Clinical Pathology\",\"Anatomic Pathology\",\"Anesthesiology\",\"Ankle Replacement Surgery\",\"Apheresis\",\"Arthroscopic Hip Surgery\",\"Arthroscopic Knee Surgery\",\"Arthroscopic Shoulder Surgery\",\"Arthroscopic Wrist Surgery\",\"Audiology\",\"Bariatric Medicine\",\"Bariatric Surgery\",\"Behavioral Neurology\",\"Behavioral Psychology\",\"Biochemical Genetics\",\"Blood Banking/Transfusion Medicine\",\"Bloodless Medicine\",\"Brain Injury Medicine\",\"Breast Surgery\",\"Cardiac Anesthesiology\",\"Cardiac Electrophysiology\",\"Cardiac Imaging\",\"Cardiac Surgery\",\"Cardiology\",\"Cardiothoracic Surgery\",\"Cardiovascular Disease\",\"Care of the Professional Voice\",\"Child Abuse Pediatrics\",\"Child and Adolescent Psychiatry\",\"Child Psychology\",\"Clinical Neurophysiology               \",\"Clinical Pathology\",\"Clinical Pharmacology\",\"Clinical Psychology\",\"Clinical Psychopharmacology\",\"Colon \\\\u0026 Rectal Surgery\",\"Comprehensive Eye Service\",\"Congenital Cardiac Surgery\",\"Cornea and External Diseases\",\"Cosmetic Surgery\",\"Cranial Base Surgery\",\"Critical Care\",\"Cutaneous Oncology\",\"Cytopathology\",\"Dental Sleep Medicine\",\"Dentistry\",\"Dermatologic Immunology\",\"Dermatologic Surgery\",\"Dermatology\",\"Dermatology (Pediatric)\",\"Dermatopathology\",\"Developmental Pediatrics\",\"Developmental-Behavioral Pediatrics\",\"Diagnostic Radiology\",\"Echocardiography\",\"eDermatology\",\"Elbow Surgery\",\"Electrodiagnostic Medicine\",\"Emergency Medicine\",\"Endocrine Surgery\",\"Endocrinology\",\"Endocrinology, Diabetes \\\\u0026 Metabolism\",\"Endoscopic Surgery\",\"Endourology\",\"Epilepsy\",\"Erectile Dysfunction\",\"Esophageal Surgery\",\"Facial and Reconstructive Surgery\",\"Family Medicine\",\"Family Planning\",\"Family Practice\",\"Female Pelvic Medicine and Reconstructive Urology\",\"Finger(s) Surgery\",\"Foot and Ankle Surgery\",\"Forensic Psychiatry\",\"Gastroenterology\",\"General Foot and Ankle (Non-Surgical)\",\"General Fracture Care\",\"General Lower Extremity (Non-Surgical)\",\"General Orthopaedic Surgery\",\"General Orthopaedics\",\"General Spine/Back/Neck (Non-Surgical)\",\"General Surgery\",\"General Upper Extremity (Non-Surgical)\",\"Geriatric Psychiatry\",\"Geriatrics\",\"Glaucoma\",\"Gynecologic Oncology\",\"Gynecology\",\"Gynecology (Practice Limited to Gynecology)\",\"Hand Surgery\",\"Hand,Wrist,and/or Upper Extremity Surgery\",\"Head and Neck Surgery\",\"Hematology\",\"Hepatology\",\"Hip and Knee Replacement Revisions\",\"Hip Replacement Surgery\",\"Hip Surgery\",\"HIV/Hepatitis C\",\"Hospitalist for in-patients only\",\"Infectious Disease\",\"Infectious Diseases\",\"Internal Medicine\",\"Interventional Cardiology\",\"Interventional Radiology - Neuro\",\"Knee Replacement Surgery\",\"Knee Surgery\",\"Lung Cancer Surgery\",\"Lung Transplantation\",\"Lymphedema\",\"Macula, Retina, and Vitreous Disease and Surgery\",\"Male Infertility\",\"Maternal Fetal Medicine\",\"Maxillofacial Prosthodontics\",\"Medical Genetics\",\"Medical Oncology\",\"Medical Retina and Uveitis\",\"Medical Toxicology\",\"Midwife, Certified Nurse\",\"Minimally Invasive Spine Surgery\",\"Minimally Invasive Surgery\",\"Minimally Invasive Urology\",\"Molecular Genetics\",\"Multiple Sclerosis\",\"Musculoskeletal Oncology\",\"Neonatal-Perinatal Medicine\",\"Neonatology\",\"Nephrology (Kidneys)\",\"Neurocritical Care\",\"NeuroEndovascular Surgery\",\"Neurology\",\"Neurology (pediatric)\",\"Neuro-Oncology\",\"Neuro-Ophthalmology\",\"Neuropathology\",\"Neurophysiology\",\"Neuropsychology\",\"Neuroradiology\",\"Neurosurgery\",\"Neurovascular Surgery\",\"Nuclear Cardiology\",\"Nuclear Medicine\",\"Nuclear Radiology\",\"Nutrition\",\"Obesity Medicine\",\"Obstetrics and Gynecology\",\"Occupational Medicine\",\"Oculoplastic and Reconstructive Surgery\",\"Ophthalmology\",\"Ophthalmology (Pediatric)\",\"Optometry\",\"Oral and Maxillofacial Surgery\",\"Orthodontics\",\"Orthopaedic Surgery\",\"Orthopaedic Trauma\",\"Osteopathic Manipulative Medicine             \",\"Otolaryngology (ENT)\",\"Otolaryngology (Pediatric)\",\"Otology/Neurotology                \",\"Otoneurology\",\"Pain Medicine\",\"Palliative Care\",\"Pathology\",\"PCP (Primary Care Physician)\",\"Pediatric Anesthesiology\",\"Pediatric Cardiology\",\"Pediatric Dentistry\",\"Pediatric Dermatology\",\"Pediatric Emergency Medicine\",\"Pediatric Endocrinology\",\"Pediatric ENT (Otolaryngology)\",\"Pediatric Gastroenterology\",\"Pediatric Hematology-Oncology\",\"Pediatric Hepatology\",\"Pediatric Infectious Disease\",\"Pediatric Medical Oncology   \",\"Pediatric Nephrology\",\"Pediatric Neurosurgery\",\"Pediatric Ophthalmology\",\"Pediatric Orthopaedic Surgery\",\"Pediatric Orthopaedics\",\"Pediatric Otolaryngology\",\"Pediatric Otolaryngology (ENT)\",\"Pediatric Pathology\",\"Pediatric Plastic Surgery\",\"Pediatric Pulmonology\",\"Pediatric Radiology\",\"Pediatric Rehabilitation Medicine\",\"Pediatric Rheumatology\",\"Pediatric Surgery\",\"Pediatric Thoracic Surgery\",\"Pediatric Transplant Surgery\",\"Pediatric Upper Extremity\",\"Pediatric Urology\",\"Pediatrics\",\"Pediatrics (Primary Care Physician)\",\"Physical Medicine and Rehabilitation\",\"Plastic Surgery\",\"Podiatric Foot and Ankle Surgery\",\"Podiatric Foot Surgery\",\"Podiatric Orthopaedics\",\"Podiatry\",\"Practice Limited to Research\",\"Preventive Medicine\",\"Primary Care Sports Medicine (Non-surgical)\",\"Prosthodontics\",\"Psychiatry\",\"Psychology\",\"Pulmonary Disease\",\"Pulmonology\",\"Radiation Oncology\",\"Radiology\",\"Refractive Surgery\",\"Reproductive Endocrinology \\\\u0026 Infertility       \",\"Rheumatology\",\"Rotator Cuff Repair\",\"Shoulder Replacement Surgery\",\"Shoulder Surgery\",\"Sleep Disorders\",\"Sleep Medicine\",\"Sleep Surgery\",\"Social Work\",\"Speech Language Pathology\",\"Spinal Cord Injury\",\"Spine Oncology\",\"Spine/Back/Neck Surgery\",\"Sports and Spine Rehabilitation\",\"Sports Medicine\",\"Sports Medicine (Lower Extremity)\",\"Sports Medicine (Upper Extremity)\",\"Surgery\",\"Surgery of the Hand\",\"Surgical Oncology\",\"Thoracic Surgery\",\"Toxicology\",\"Transplant Medicine\",\"Transplant Surgery\",\"Transplantation Pathology\",\"Urogynecology\",\"Urologic Oncology\",\"Urological Surgery\",\"Urology\",\"Vascular and Interventional Radiology\",\"Vascular Medicine\",\"Vascular Neurology\",\"Vascular Surgery\",\"Voice Care\",\"Weight Management\",\"Women\\\\u0027s Imaging\",\"Wound Care\",\"Wrist Surgery\"];\\r\\n            $(\".specialty\").autocomplete({\\r\\n                source: specialty\\r\\n            });\\r\\n\\r\\n            $(\\'input, textarea\\').placeholder();\\r\\n        });\\r\\n    </script>\\r\\n\\r\\n    <style>\\r\\n        input, textarea, .ui-autocomplete { color: #000; }\\r\\n        .placeholder { color: #aaa; }\\r\\n    </style>\\r\\n\\r\\n    <div id=\"autoCompleteFields\" style=\"display:none;\"></div>\\r\\n\\r\\n    <div style=\"display: none;\">\\r\\n        <div id=\"inline\" class=\"popup\">\\r\\n            <h2>About Our Survey</h2>\\r\\n            <hr />\\r\\n            <h3>Guide to Patient Satisfaction Surveys and Ratings</h3>\\r\\n\\r\\n            <p>At UPMC, our vision is putting our patients, health plan members, employees, and community at the center of everything we do and creating a model that ensures that every patient gets the right care, in the right way, at the right time, every time. We also believe that transparency is critical. We want to help our patients and their families see how we capture the patient experience at UPMC.</p>\\r\\n            \\r\\n            <h3>About our Patient Satisfaction Surveys</h3>\\r\\n            <p>UPMC measures many aspects of our patients\\' experiences. We work with an independent patient satisfaction company, <a href=\"http://www.pressganey.com/\" target=\"_blank\">Press Ganey</a>, to distribute our surveys. For more than 25 years, Press Ganey has been the industry\\'s recognized leader in health care patient satisfaction. Press Ganey works with more than 10,000 health care organizations nationwide, including 50% of all U.S. hospitals, to improve clinical and business results.</p>\\r\\n\\r\\n            <h3>Who gets the survey?</h3>\\r\\n            <p>Patients treated by UPMC physicians and advanced care providers are randomly chosen to fill out our patient satisfaction surveys. Surveys are sent by email and mail to offer patients a chance to provide feedback about their experience with their provider. Each year, almost 180,000 of UPMC\\'s patients respond. Results are shared with departments and individuals for continuous opportunities to improve care.</p>\\r\\n\\r\\n            <h3>What questions do we ask?</h3>\\r\\n            <p>The survey is based on outpatient office visits with the patient\\'s physician and advanced practice providers. On behalf of UPMC, Press Ganey administers the Clinician and Group Consumer Assessment of Healthcare Providers and Systems (CG-CAHPS) survey, developed by the <a href=\"http://www.ahrq.gov/\" target=\"_blank\">Agency for Healthcare Research and Quality</a>, for use in medical practices across the country. Press Ganey also sends surveys to our other services such as hospital stays for our adult and pediatric patients, but these results are not yet shared online. The surveys ask our patients to measure how well their provider communicated, listened, and showed courtesy and respect toward them. Results are used to evaluate patients\\' overall perception of care and help us find areas we can improve or recognize our physicians and advanced practice providers.</p>\\r\\n\\r\\n            <h3>What does UPMC do with the survey responses?</h3>\\r\\n            <p>Survey ratings and patient comments are shared on this website for the benefit of our patients, physicians, and advanced practice providers. At UPMC, we continually look at patients\\' feedback and ratings to evaluate patients\\' overall perception of care and help us identify areas we need to improve, or recognize excellent care provided by our providers and staff.</p>\\r\\n            \\r\\n            <h3>How is an individual\\'s patient satisfaction star rating created?</h3>\\r\\n            <p>Star ratings are based on patient responses to six questions about interactions with the provider.</p>\\r\\n\\r\\n            <h3>Are all comments posted?</h3>\\r\\n            <p>We post all comments from the surveys except for comments that are libelous, slanderous, profane, do not refer to a provider interaction or that may risk the privacy of a patient.</p>\\r\\n\\r\\n            <h3>Why aren\\'t there patient ratings and comments for every provider?</h3>\\r\\n            <p>This can be for several reasons, including:</p>\\r\\n            <ul>\\r\\n                <li>The provider has not yet received the minimum number of patient satisfaction surveys to be eligible for display.  At UPMC, we require a minimum of 30 surveys before we post results to ensure that the rating is statistically reliable and a true reflection of patient satisfaction.</li>\\r\\n                <li>He or she may be a researcher or other type of provider that does not see patients.</li>\\r\\n                <li>The provider practices in a specialty or office that does not use the specified surveys currently used for these ratings.</li>\\r\\n            </ul>\\r\\n            \\r\\n            <h3>Can anyone fill out a survey or post a comment about a physician or advanced practice provider?</h3>\\r\\n            <p>You must have had an outpatient visit with a UPMC provider to be selected to receive a survey. This ensures that the results are only from patients who have actually been treated by that provider.</p>\\r\\n\\r\\n            <h3>How is patient information protected?</h3>\\r\\n            <p>Patient names are not displayed through the online ratings and commentary reviews. Commentary reviews containing personally identifiable information are not displayed online.</p>\\r\\n\\r\\n            <h3>What other ways is UPMC sharing information transparently with patients?</h3>\\r\\n            <p>Launched in 2014, <a href=\"http://UPMC.com/QualityMeasures\" target=\"_blank\">UPMC.com/QualityMeasures</a> displays clinical outcomes for several areas, and new outcomes are added regularly. Visit the site to see how UPMC compares to the national rates in these areas.</p>\\r\\n        </div>\\r\\n    </div>  \\r\\n    <span id=\"top-link-block\" class=\"hidden\">\\r\\n        <a href=\"#top\" class=\"well well-sm\"  onclick=\"$(\\'html,body\\').animate({scrollTop:0},\\'slow\\');return false;\">\\r\\n            <i class=\"glyphicon glyphicon-chevron-up\"></i> Back to Top\\r\\n        </a>\\r\\n    </span><!-- /top-link-block -->\\r\\n    <script>\\r\\n        if ( ($(window).height() + 100) < $(document).height() ) {\\r\\n            $(\\'#top-link-block\\').removeClass(\\'hidden\\').affix({\\r\\n                // how far to scroll down before link \"slides\" into view\\r\\n                offset: {top:100}\\r\\n            });\\r\\n        }\\r\\n    </script>\\r\\n</body>\\r\\n</html>\\r\\n'"
      ]
     },
     "execution_count": 250,
     "metadata": {},
     "output_type": "execute_result"
    }
   ],
   "source": [
    "html"
   ]
  },
  {
   "cell_type": "code",
   "execution_count": null,
   "metadata": {
    "collapsed": true
   },
   "outputs": [],
   "source": [
    "row innerRow"
   ]
  }
 ],
 "metadata": {
  "kernelspec": {
   "display_name": "Python 3",
   "language": "python",
   "name": "python3"
  },
  "language_info": {
   "codemirror_mode": {
    "name": "ipython",
    "version": 3
   },
   "file_extension": ".py",
   "mimetype": "text/x-python",
   "name": "python",
   "nbconvert_exporter": "python",
   "pygments_lexer": "ipython3",
   "version": "3.6.2"
  }
 },
 "nbformat": 4,
 "nbformat_minor": 2
}
